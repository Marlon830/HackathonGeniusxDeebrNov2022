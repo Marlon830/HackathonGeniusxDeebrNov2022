{
 "cells": [
  {
   "cell_type": "code",
   "execution_count": null,
   "metadata": {},
   "outputs": [],
   "source": [
    "#libraires nécessaires\n",
    "\n",
    "import pandas as pd\n",
    "import numpy as np\n",
    "import matplotlib.pyplot as plt\n",
    "import seaborn as sns\n",
    "from sklearn import model_selection\n",
    "from sklearn.linear_model import LogisticRegression\n",
    "from sklearn.model_selection import train_test_split\n",
    "from sklearn.feature_selection import SelectKBest\n",
    "from sklearn.feature_selection import chi2\n",
    "from sklearn import metrics\n",
    "from sklearn.metrics import classification_report"
   ]
  },
  {
   "cell_type": "code",
   "execution_count": null,
   "metadata": {},
   "outputs": [],
   "source": [
    "#importe le fichier csv \"sales-product\" et garde la référence des produits vendus\n",
    "df = pd.read_csv(\"sales-product.csv\")\n",
    "df = df[:-1][[\"ref_produit\", ]].copy()\n",
    "#grouper les produits par référence et compter le nombre de fois qu'ils sont vendus\n",
    "df = df.groupby(\"ref_produit\").size().reset_index(name=\"nb_ventes\")\n",
    "df.rename(columns={\"ref_produit\": \"ref\"}, inplace=True)"
   ]
  },
  {
   "cell_type": "code",
   "execution_count": null,
   "metadata": {},
   "outputs": [],
   "source": [
    "#ajouter la categorie de chaque  produit\n",
    "dg = pd.read_csv(\"table-produit-full.csv\")\n",
    "dg = dg[[\"category1_id\", \"genre\", \"ref\", \"price\"]].copy()\n",
    "#pour chaque lignes de df on ajoute la categorie correspondante de dg et le genre correspondant\n",
    "df = pd.merge(df, dg, on=\"ref\", how=\"left\")\n",
    "#on supprime les lignes avec des valeurs manquantes et les doublons\n",
    "df = df.dropna()\n",
    "df = df.groupby(['ref']).first()\n",
    "df[\"category1_id\"] = df[\"category1_id\"].astype(int)\n",
    "#trier les produits par ordre décroissant de nombre de ventes\n",
    "df = df.sort_values(by=\"nb_ventes\", ascending=False)\n",
    "df['genre'].replace(['Femme', 'Homme'], [1,0], inplace=True)\n",
    "df['price'] = df['price'].astype(int)\n",
    "df"
   ]
  },
  {
   "cell_type": "code",
   "execution_count": null,
   "metadata": {},
   "outputs": [],
   "source": [
    "X = df[['category1_id','genre', 'price']] \n",
    "Y = df[['nb_ventes']]  #ce que l'on cherche ici le nombre de ventes"
   ]
  },
  {
   "cell_type": "code",
   "execution_count": null,
   "metadata": {},
   "outputs": [],
   "source": [
    "#entraînement de l'ia + prédiction\n",
    "X_train,X_test,y_train,y_test=train_test_split(X,Y,test_size=0.4,random_state=100)\n",
    "\n",
    "logreg= LogisticRegression(max_iter=10000)\n",
    "logreg.fit(X_train,y_train)\n",
    "logreg = logreg.fit(X_train, y_train.values.ravel())\n",
    "y_pred=logreg.predict(X_test)\n",
    "\n",
    "#précision des prédiction\n",
    "print(\"Accuracy: \",metrics.accuracy_score(y_test, y_pred))"
   ]
  }
 ],
 "metadata": {
  "kernelspec": {
   "display_name": "Python 3.10.6 64-bit",
   "language": "python",
   "name": "python3"
  },
  "language_info": {
   "codemirror_mode": {
    "name": "ipython",
    "version": 3
   },
   "file_extension": ".py",
   "mimetype": "text/x-python",
   "name": "python",
   "nbconvert_exporter": "python",
   "pygments_lexer": "ipython3",
   "version": "3.10.6"
  },
  "orig_nbformat": 4,
  "vscode": {
   "interpreter": {
    "hash": "916dbcbb3f70747c44a77c7bcd40155683ae19c65e1c03b4aa3499c5328201f1"
   }
  }
 },
 "nbformat": 4,
 "nbformat_minor": 2
}
