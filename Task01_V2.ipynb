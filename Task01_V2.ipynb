{
 "cells": [
  {
   "cell_type": "code",
   "execution_count": 25,
   "metadata": {},
   "outputs": [],
   "source": [
    "#libraires nécessaires\n",
    "\n",
    "import pandas as pd\n",
    "import numpy as np\n",
    "import matplotlib.pyplot as plt\n",
    "import seaborn as sns\n",
    "from sklearn import model_selection\n",
    "from sklearn.linear_model import LogisticRegression\n",
    "from sklearn.model_selection import train_test_split\n",
    "from sklearn.feature_selection import SelectKBest\n",
    "from sklearn.feature_selection import chi2\n",
    "from sklearn import metrics\n",
    "from sklearn.metrics import classification_report"
   ]
  },
  {
   "cell_type": "code",
   "execution_count": 26,
   "metadata": {},
   "outputs": [
    {
     "name": "stderr",
     "output_type": "stream",
     "text": [
      "/tmp/ipykernel_38038/937824588.py:2: DtypeWarning: Columns (5) have mixed types. Specify dtype option on import or set low_memory=False.\n",
      "  df = pd.read_csv(\"sales-product.csv\")\n"
     ]
    }
   ],
   "source": [
    "#importe le fichier csv \"sales-product\" et garde la référence des produits vendus\n",
    "df = pd.read_csv(\"sales-product.csv\")\n",
    "df = df[:-1][[\"ref_produit\", ]].copy()\n",
    "#grouper les produits par référence et compter le nombre de fois qu'ils sont vendus\n",
    "df = df.groupby(\"ref_produit\").size().reset_index(name=\"nb_ventes\")\n",
    "df.rename(columns={\"ref_produit\": \"ref\"}, inplace=True)"
   ]
  },
  {
   "cell_type": "code",
   "execution_count": 27,
   "metadata": {},
   "outputs": [
    {
     "name": "stderr",
     "output_type": "stream",
     "text": [
      "/tmp/ipykernel_38038/3541094567.py:2: DtypeWarning: Columns (43,53,54,55,63,67,68,75,80) have mixed types. Specify dtype option on import or set low_memory=False.\n",
      "  dg = pd.read_csv(\"table-produit-full.csv\")\n"
     ]
    },
    {
     "data": {
      "text/html": [
       "<div>\n",
       "<style scoped>\n",
       "    .dataframe tbody tr th:only-of-type {\n",
       "        vertical-align: middle;\n",
       "    }\n",
       "\n",
       "    .dataframe tbody tr th {\n",
       "        vertical-align: top;\n",
       "    }\n",
       "\n",
       "    .dataframe thead th {\n",
       "        text-align: right;\n",
       "    }\n",
       "</style>\n",
       "<table border=\"1\" class=\"dataframe\">\n",
       "  <thead>\n",
       "    <tr style=\"text-align: right;\">\n",
       "      <th></th>\n",
       "      <th>nb_ventes</th>\n",
       "      <th>category1_id</th>\n",
       "      <th>genre</th>\n",
       "      <th>price</th>\n",
       "    </tr>\n",
       "    <tr>\n",
       "      <th>ref</th>\n",
       "      <th></th>\n",
       "      <th></th>\n",
       "      <th></th>\n",
       "      <th></th>\n",
       "    </tr>\n",
       "  </thead>\n",
       "  <tbody>\n",
       "    <tr>\n",
       "      <th>1920010</th>\n",
       "      <td>43129</td>\n",
       "      <td>1</td>\n",
       "      <td>0</td>\n",
       "      <td>49</td>\n",
       "    </tr>\n",
       "    <tr>\n",
       "      <th>1910076</th>\n",
       "      <td>23017</td>\n",
       "      <td>0</td>\n",
       "      <td>0</td>\n",
       "      <td>29</td>\n",
       "    </tr>\n",
       "    <tr>\n",
       "      <th>2140150</th>\n",
       "      <td>22639</td>\n",
       "      <td>5</td>\n",
       "      <td>0</td>\n",
       "      <td>49</td>\n",
       "    </tr>\n",
       "    <tr>\n",
       "      <th>T19939</th>\n",
       "      <td>13223</td>\n",
       "      <td>11</td>\n",
       "      <td>0</td>\n",
       "      <td>59</td>\n",
       "    </tr>\n",
       "    <tr>\n",
       "      <th>1920009</th>\n",
       "      <td>8314</td>\n",
       "      <td>1</td>\n",
       "      <td>0</td>\n",
       "      <td>39</td>\n",
       "    </tr>\n",
       "    <tr>\n",
       "      <th>...</th>\n",
       "      <td>...</td>\n",
       "      <td>...</td>\n",
       "      <td>...</td>\n",
       "      <td>...</td>\n",
       "    </tr>\n",
       "    <tr>\n",
       "      <th>F187005</th>\n",
       "      <td>2</td>\n",
       "      <td>14</td>\n",
       "      <td>1</td>\n",
       "      <td>39</td>\n",
       "    </tr>\n",
       "    <tr>\n",
       "      <th>88169950</th>\n",
       "      <td>1</td>\n",
       "      <td>11</td>\n",
       "      <td>0</td>\n",
       "      <td>59</td>\n",
       "    </tr>\n",
       "    <tr>\n",
       "      <th>88169952</th>\n",
       "      <td>1</td>\n",
       "      <td>11</td>\n",
       "      <td>0</td>\n",
       "      <td>59</td>\n",
       "    </tr>\n",
       "    <tr>\n",
       "      <th>88172272</th>\n",
       "      <td>1</td>\n",
       "      <td>1</td>\n",
       "      <td>0</td>\n",
       "      <td>59</td>\n",
       "    </tr>\n",
       "    <tr>\n",
       "      <th>88170008</th>\n",
       "      <td>1</td>\n",
       "      <td>11</td>\n",
       "      <td>0</td>\n",
       "      <td>59</td>\n",
       "    </tr>\n",
       "  </tbody>\n",
       "</table>\n",
       "<p>1076 rows × 4 columns</p>\n",
       "</div>"
      ],
      "text/plain": [
       "          nb_ventes  category1_id  genre  price\n",
       "ref                                            \n",
       "1920010       43129             1      0     49\n",
       "1910076       23017             0      0     29\n",
       "2140150       22639             5      0     49\n",
       "T19939        13223            11      0     59\n",
       "1920009        8314             1      0     39\n",
       "...             ...           ...    ...    ...\n",
       "F187005           2            14      1     39\n",
       "88169950          1            11      0     59\n",
       "88169952          1            11      0     59\n",
       "88172272          1             1      0     59\n",
       "88170008          1            11      0     59\n",
       "\n",
       "[1076 rows x 4 columns]"
      ]
     },
     "execution_count": 27,
     "metadata": {},
     "output_type": "execute_result"
    }
   ],
   "source": [
    "#ajouter la categorie de chaque  produit\n",
    "dg = pd.read_csv(\"table-produit-full.csv\")\n",
    "dg = dg[[\"category1_id\", \"genre\", \"ref\", \"price\"]].copy()\n",
    "#pour chaque lignes de df on ajoute la categorie correspondante de dg et le genre correspondant\n",
    "df = pd.merge(df, dg, on=\"ref\", how=\"left\")\n",
    "#on supprime les lignes avec des valeurs manquantes et les doublons\n",
    "df = df.dropna()\n",
    "df = df.groupby(['ref']).first()\n",
    "df[\"category1_id\"] = df[\"category1_id\"].astype(int)\n",
    "#trier les produits par ordre décroissant de nombre de ventes\n",
    "df = df.sort_values(by=\"nb_ventes\", ascending=False)\n",
    "df['genre'].replace(['Femme', 'Homme'], [1,0], inplace=True)\n",
    "df['price'] = df['price'].astype(int)\n",
    "df"
   ]
  },
  {
   "cell_type": "code",
   "execution_count": 28,
   "metadata": {},
   "outputs": [],
   "source": [
    "X = df[['category1_id','genre', 'price']] \n",
    "Y = df[['nb_ventes']]  #ce que l'on cherche ici le nombre de ventes"
   ]
  },
  {
   "cell_type": "code",
   "execution_count": 29,
   "metadata": {},
   "outputs": [
    {
     "name": "stderr",
     "output_type": "stream",
     "text": [
      "/home/allan/.local/lib/python3.10/site-packages/sklearn/utils/validation.py:1111: DataConversionWarning: A column-vector y was passed when a 1d array was expected. Please change the shape of y to (n_samples, ), for example using ravel().\n",
      "  y = column_or_1d(y, warn=True)\n"
     ]
    },
    {
     "name": "stdout",
     "output_type": "stream",
     "text": [
      "Accuracy:  0.0\n"
     ]
    }
   ],
   "source": [
    "#entraînement de l'ia + prédiction\n",
    "X_train,X_test,y_train,y_test=train_test_split(X,Y,test_size=0.4,random_state=100)\n",
    "\n",
    "logreg= LogisticRegression(max_iter=10000)\n",
    "logreg.fit(X_train,y_train)\n",
    "logreg = logreg.fit(X_train, y_train.values.ravel())\n",
    "y_pred=logreg.predict(X_test)\n",
    "\n",
    "#précision des prédiction\n",
    "print(\"Accuracy: \",metrics.accuracy_score(y_test, y_pred))"
   ]
  }
 ],
 "metadata": {
  "kernelspec": {
   "display_name": "Python 3.10.6 64-bit",
   "language": "python",
   "name": "python3"
  },
  "language_info": {
   "codemirror_mode": {
    "name": "ipython",
    "version": 3
   },
   "file_extension": ".py",
   "mimetype": "text/x-python",
   "name": "python",
   "nbconvert_exporter": "python",
   "pygments_lexer": "ipython3",
   "version": "3.10.6"
  },
  "orig_nbformat": 4,
  "vscode": {
   "interpreter": {
    "hash": "916dbcbb3f70747c44a77c7bcd40155683ae19c65e1c03b4aa3499c5328201f1"
   }
  }
 },
 "nbformat": 4,
 "nbformat_minor": 2
}
