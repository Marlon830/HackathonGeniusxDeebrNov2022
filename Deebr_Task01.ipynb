{
  "nbformat": 4,
  "nbformat_minor": 0,
  "metadata": {
    "colab": {
      "provenance": []
    },
    "kernelspec": {
      "name": "python3",
      "display_name": "Python 3"
    },
    "language_info": {
      "name": "python"
    }
  },
  "cells": [
    {
      "cell_type": "code",
      "source": [
        "#libraires nécessaires\n",
        "\n",
        "import pandas as pd\n",
        "import numpy as np\n",
        "import matplotlib.pyplot as plt\n",
        "import seaborn as sns\n",
        "from sklearn import model_selection\n",
        "from sklearn.linear_model import LogisticRegression\n",
        "from sklearn.model_selection import train_test_split\n",
        "from sklearn.feature_selection import SelectKBest\n",
        "from sklearn.feature_selection import chi2\n",
        "from sklearn import metrics\n",
        "from sklearn.metrics import classification_report\n"
      ],
      "metadata": {
        "id": "138w557Hd4TG"
      },
      "execution_count": 5,
      "outputs": []
    },
    {
      "cell_type": "code",
      "execution_count": null,
      "metadata": {
        "id": "Z1Y-D7kTGYSB"
      },
      "outputs": [],
      "source": [
        "#importe le fichier csv \"table_produit\" et le modifie\n",
        "\n",
        "df = pd.read_csv(\"table-produit.csv\")\n",
        "df = df.iloc[:,[False,False,True,False,False,False,True,False,True,False,True,True]]\n",
        "\n",
        "df['genre'].replace(['Femme', 'Homme'], [1,0], inplace=True)\n",
        "df.pop(\"ref\")\n",
        "\n",
        "#affiches les 5 premières lignes du tableau\n",
        "df.head(5)\n",
        "\n"
      ]
    },
    {
      "cell_type": "code",
      "source": [
        "X = df[['category2_id','genre','category1_id']]  #les 3 meilleurs éléments \n",
        "Y = df[['quantity']]  #ce que l'on cherche ici la quantité\n"
      ],
      "metadata": {
        "id": "TPnX8MouLnEL"
      },
      "execution_count": 7,
      "outputs": []
    },
    {
      "cell_type": "code",
      "source": [
        "#entraînement de l'ia + prédiction\n",
        "X_train,X_test,y_train,y_test=train_test_split(X,Y,test_size=0.4,random_state=100)\n",
        "\n",
        "logreg= LogisticRegression()\n",
        "logreg.fit(X_train,y_train)\n",
        "\n",
        "y_pred=logreg.predict(X_test)\n",
        "\n",
        "#précision des prédiction\n",
        "print(\"Accuracy: \",metrics.accuracy_score(y_test, y_pred))\n"
      ],
      "metadata": {
        "id": "0AWpd376JyRe"
      },
      "execution_count": null,
      "outputs": []
    }
  ]
}